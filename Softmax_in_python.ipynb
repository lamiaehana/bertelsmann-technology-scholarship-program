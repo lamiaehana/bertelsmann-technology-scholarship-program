{
  "nbformat": 4,
  "nbformat_minor": 0,
  "metadata": {
    "colab": {
      "name": "Softmax in python.ipynb",
      "provenance": [],
      "collapsed_sections": [],
      "include_colab_link": true
    },
    "kernelspec": {
      "name": "python3",
      "display_name": "Python 3"
    }
  },
  "cells": [
    {
      "cell_type": "markdown",
      "metadata": {
        "id": "view-in-github",
        "colab_type": "text"
      },
      "source": [
        "<a href=\"https://colab.research.google.com/github/lamiaehana/bertelsmann-technology-scholarship-program/blob/master/Softmax_in_python.ipynb\" target=\"_parent\"><img src=\"https://colab.research.google.com/assets/colab-badge.svg\" alt=\"Open In Colab\"/></a>"
      ]
    },
    {
      "cell_type": "markdown",
      "metadata": {
        "id": "u7WPYrX59Br4",
        "colab_type": "text"
      },
      "source": [
        "# Softmax in Python\n",
        "\n",
        "Trying for L=[5,6,7].  \n",
        "The correct answer is  \n",
        "[0.09003057317038046, 0.24472847105479764, 0.6652409557748219]  \n"
      ]
    },
    {
      "cell_type": "code",
      "metadata": {
        "id": "IXvBDn1z8wnx",
        "colab_type": "code",
        "colab": {}
      },
      "source": [
        "import numpy as np\n",
        "\n",
        "# Write a function that takes as input a list of numbers, and returns\n",
        "# the list of values given by the softmax function.\n",
        "def softmax(L):\n",
        "    exps = np.exp(L)\n",
        "    return exps/np.sum(exps)"
      ],
      "execution_count": 0,
      "outputs": []
    },
    {
      "cell_type": "code",
      "metadata": {
        "id": "DSBsx8ne8x-T",
        "colab_type": "code",
        "colab": {}
      },
      "source": [
        "L=[5,6,7]"
      ],
      "execution_count": 0,
      "outputs": []
    },
    {
      "cell_type": "code",
      "metadata": {
        "id": "UcbZtWCy88DO",
        "colab_type": "code",
        "colab": {
          "base_uri": "https://localhost:8080/",
          "height": 34
        },
        "outputId": "604c5aeb-4450-4344-f757-2b071dee9c2a"
      },
      "source": [
        "softmax(L)"
      ],
      "execution_count": 8,
      "outputs": [
        {
          "output_type": "execute_result",
          "data": {
            "text/plain": [
              "array([0.09003057, 0.24472847, 0.66524096])"
            ]
          },
          "metadata": {
            "tags": []
          },
          "execution_count": 8
        }
      ]
    }
  ]
}
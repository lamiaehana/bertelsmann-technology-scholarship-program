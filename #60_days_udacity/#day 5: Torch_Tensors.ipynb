{
  "nbformat": 4,
  "nbformat_minor": 0,
  "metadata": {
    "colab": {
      "name": "Torch Tensors.ipynb",
      "provenance": [],
      "include_colab_link": true
    },
    "kernelspec": {
      "name": "python3",
      "display_name": "Python 3"
    }
  },
  "cells": [
    {
      "cell_type": "markdown",
      "metadata": {
        "id": "view-in-github",
        "colab_type": "text"
      },
      "source": [
        "<a href=\"https://colab.research.google.com/github/lamiaehana/bertelsmann-technology-scholarship-program/blob/master/Torch_Tensors.ipynb\" target=\"_parent\"><img src=\"https://colab.research.google.com/assets/colab-badge.svg\" alt=\"Open In Colab\"/></a>"
      ]
    },
    {
      "cell_type": "code",
      "metadata": {
        "id": "sdS7UyNyGHwg",
        "colab_type": "code",
        "colab": {}
      },
      "source": [
        "% matplotlib inline\n",
        "% config InlineBackend.figure_format = 'retina'"
      ],
      "execution_count": 0,
      "outputs": []
    },
    {
      "cell_type": "code",
      "metadata": {
        "id": "J8NeybwTxww5",
        "colab_type": "code",
        "colab": {}
      },
      "source": [
        "import torch"
      ],
      "execution_count": 0,
      "outputs": []
    },
    {
      "cell_type": "code",
      "metadata": {
        "id": "VIQKBolYbmSh",
        "colab_type": "code",
        "colab": {}
      },
      "source": [
        "import torchvision "
      ],
      "execution_count": 0,
      "outputs": []
    },
    {
      "cell_type": "code",
      "metadata": {
        "id": "pHEOTMWrbpQc",
        "colab_type": "code",
        "colab": {
          "base_uri": "https://localhost:8080/",
          "height": 34
        },
        "outputId": "6e8b2668-bfd3-4fbb-e4e5-d85ba669817b"
      },
      "source": [
        "print(torch.cuda.is_available())"
      ],
      "execution_count": 22,
      "outputs": [
        {
          "output_type": "stream",
          "text": [
            "False\n"
          ],
          "name": "stdout"
        }
      ]
    },
    {
      "cell_type": "markdown",
      "metadata": {
        "id": "V0oLUH_zcAr2",
        "colab_type": "text"
      },
      "source": [
        "#Torch Tensors"
      ]
    },
    {
      "cell_type": "code",
      "metadata": {
        "id": "Dmeosi23b3eq",
        "colab_type": "code",
        "colab": {
          "base_uri": "https://localhost:8080/",
          "height": 34
        },
        "outputId": "9571aabc-3c54-47a8-ef03-6cd768338501"
      },
      "source": [
        "#this is a 1-D Tensor\n",
        "a = torch.tensor([2,2,1])\n",
        "print(a)"
      ],
      "execution_count": 23,
      "outputs": [
        {
          "output_type": "stream",
          "text": [
            "tensor([2, 2, 1])\n"
          ],
          "name": "stdout"
        }
      ]
    },
    {
      "cell_type": "code",
      "metadata": {
        "id": "-4zogffVcIET",
        "colab_type": "code",
        "colab": {
          "base_uri": "https://localhost:8080/",
          "height": 85
        },
        "outputId": "9117072f-2450-4c93-9f25-b4fe9f0ae3c6"
      },
      "source": [
        "#this is a 2-D Tensor\n",
        "b = torch.tensor([[2,1,4], [3,5,4],[1,2,0],[4,3,2]])\n",
        "print(b)"
      ],
      "execution_count": 24,
      "outputs": [
        {
          "output_type": "stream",
          "text": [
            "tensor([[2, 1, 4],\n",
            "        [3, 5, 4],\n",
            "        [1, 2, 0],\n",
            "        [4, 3, 2]])\n"
          ],
          "name": "stdout"
        }
      ]
    },
    {
      "cell_type": "code",
      "metadata": {
        "id": "2OY19nTwcTSa",
        "colab_type": "code",
        "colab": {
          "base_uri": "https://localhost:8080/",
          "height": 85
        },
        "outputId": "96edc9c5-d1cc-4939-cdfa-b6b9eaaa3b5f"
      },
      "source": [
        "#the size of the tensors\n",
        "print(a.shape)\n",
        "print(b.shape)\n",
        "print(a.size())\n",
        "print(b.size())"
      ],
      "execution_count": 25,
      "outputs": [
        {
          "output_type": "stream",
          "text": [
            "torch.Size([3])\n",
            "torch.Size([4, 3])\n",
            "torch.Size([3])\n",
            "torch.Size([4, 3])\n"
          ],
          "name": "stdout"
        }
      ]
    },
    {
      "cell_type": "code",
      "metadata": {
        "id": "5dFun4pbcb3I",
        "colab_type": "code",
        "colab": {
          "base_uri": "https://localhost:8080/",
          "height": 34
        },
        "outputId": "ba51ee46-2d1d-43f7-8321-8ed914661b4a"
      },
      "source": [
        "#Get the height/number of rows of b\n",
        "print(b.shape[0])"
      ],
      "execution_count": 28,
      "outputs": [
        {
          "output_type": "stream",
          "text": [
            "4\n"
          ],
          "name": "stdout"
        }
      ]
    },
    {
      "cell_type": "code",
      "metadata": {
        "id": "TY29rCNlcovK",
        "colab_type": "code",
        "colab": {}
      },
      "source": [
        "c = torch.FloatTensor([[2,1,4],[3,5,4],[1,2,0],[4,3,2]])\n",
        "#or we can do \n",
        "#c = torch.tensor([2,2,1], dtype = torch.float)"
      ],
      "execution_count": 0,
      "outputs": []
    },
    {
      "cell_type": "code",
      "metadata": {
        "id": "Ys2RzgUUdK8O",
        "colab_type": "code",
        "colab": {}
      },
      "source": [
        "d = torch.DoubleTensor([[2,1,4],[3,5,4],[1,2,0],[4,3,2]])\n",
        "#or we can do\n",
        "#d = torch.tensor([2,2,1], dtype = torch.double)"
      ],
      "execution_count": 0,
      "outputs": []
    },
    {
      "cell_type": "code",
      "metadata": {
        "id": "3HGi1zdrdaUC",
        "colab_type": "code",
        "colab": {
          "base_uri": "https://localhost:8080/",
          "height": 102
        },
        "outputId": "bbf23eeb-f8cb-4516-ed18-77c9306c77fc"
      },
      "source": [
        "print(c)\n",
        "print(c.dtype)"
      ],
      "execution_count": 36,
      "outputs": [
        {
          "output_type": "stream",
          "text": [
            "tensor([[2., 1., 4.],\n",
            "        [3., 5., 4.],\n",
            "        [1., 2., 0.],\n",
            "        [4., 3., 2.]])\n",
            "torch.float32\n"
          ],
          "name": "stdout"
        }
      ]
    },
    {
      "cell_type": "code",
      "metadata": {
        "id": "DroiAzXMdj0B",
        "colab_type": "code",
        "colab": {
          "base_uri": "https://localhost:8080/",
          "height": 102
        },
        "outputId": "1bd70964-04a1-4e7a-cee1-71ce25869201"
      },
      "source": [
        "print(d)\n",
        "print(d.dtype)"
      ],
      "execution_count": 37,
      "outputs": [
        {
          "output_type": "stream",
          "text": [
            "tensor([[2., 1., 4.],\n",
            "        [3., 5., 4.],\n",
            "        [1., 2., 0.],\n",
            "        [4., 3., 2.]], dtype=torch.float64)\n",
            "torch.float64\n"
          ],
          "name": "stdout"
        }
      ]
    },
    {
      "cell_type": "code",
      "metadata": {
        "id": "DjDo4xcTdm6y",
        "colab_type": "code",
        "colab": {
          "base_uri": "https://localhost:8080/",
          "height": 34
        },
        "outputId": "a7a79e2c-1633-420e-845f-d7a94ad681be"
      },
      "source": [
        "print(c.mean())"
      ],
      "execution_count": 38,
      "outputs": [
        {
          "output_type": "stream",
          "text": [
            "tensor(2.5833)\n"
          ],
          "name": "stdout"
        }
      ]
    },
    {
      "cell_type": "code",
      "metadata": {
        "id": "fdA9fNlodxv6",
        "colab_type": "code",
        "colab": {
          "base_uri": "https://localhost:8080/",
          "height": 34
        },
        "outputId": "a7760e0c-e33c-4f71-fd8f-633fe1443fd2"
      },
      "source": [
        "print(d.mean())"
      ],
      "execution_count": 39,
      "outputs": [
        {
          "output_type": "stream",
          "text": [
            "tensor(2.5833, dtype=torch.float64)\n"
          ],
          "name": "stdout"
        }
      ]
    },
    {
      "cell_type": "code",
      "metadata": {
        "id": "3r9nv56ld0Ua",
        "colab_type": "code",
        "colab": {
          "base_uri": "https://localhost:8080/",
          "height": 34
        },
        "outputId": "ecd50a69-da1e-406b-8031-c663ee51ba94"
      },
      "source": [
        "print(c.std())"
      ],
      "execution_count": 40,
      "outputs": [
        {
          "output_type": "stream",
          "text": [
            "tensor(1.5050)\n"
          ],
          "name": "stdout"
        }
      ]
    },
    {
      "cell_type": "code",
      "metadata": {
        "id": "m46XF0M7d2hy",
        "colab_type": "code",
        "colab": {
          "base_uri": "https://localhost:8080/",
          "height": 34
        },
        "outputId": "23d48e33-7a5a-4f11-ae9f-ce4df0945cf8"
      },
      "source": [
        "print(d.std())"
      ],
      "execution_count": 41,
      "outputs": [
        {
          "output_type": "stream",
          "text": [
            "tensor(1.5050, dtype=torch.float64)\n"
          ],
          "name": "stdout"
        }
      ]
    },
    {
      "cell_type": "code",
      "metadata": {
        "id": "m9rnESgad38-",
        "colab_type": "code",
        "colab": {
          "base_uri": "https://localhost:8080/",
          "height": 289
        },
        "outputId": "253bb1a4-3bad-44d4-86bf-7100c8dc9896"
      },
      "source": [
        "#Reshape b\n",
        "#Note : if one of the dimension is -1, its size can be inferred\n",
        "print(b)\n",
        "print(b.view(-1,1))"
      ],
      "execution_count": 46,
      "outputs": [
        {
          "output_type": "stream",
          "text": [
            "tensor([[2, 1, 4],\n",
            "        [3, 5, 4],\n",
            "        [1, 2, 0],\n",
            "        [4, 3, 2]])\n",
            "tensor([[2],\n",
            "        [1],\n",
            "        [4],\n",
            "        [3],\n",
            "        [5],\n",
            "        [4],\n",
            "        [1],\n",
            "        [2],\n",
            "        [0],\n",
            "        [4],\n",
            "        [3],\n",
            "        [2]])\n"
          ],
          "name": "stdout"
        }
      ]
    },
    {
      "cell_type": "code",
      "metadata": {
        "id": "SX-dQgTReI3B",
        "colab_type": "code",
        "colab": {
          "base_uri": "https://localhost:8080/",
          "height": 34
        },
        "outputId": "f69d3c3d-5cc9-4f1c-f478-b29e9b7914b9"
      },
      "source": [
        "print(b.view(12))"
      ],
      "execution_count": 49,
      "outputs": [
        {
          "output_type": "stream",
          "text": [
            "tensor([2, 1, 4, 3, 5, 4, 1, 2, 0, 4, 3, 2])\n"
          ],
          "name": "stdout"
        }
      ]
    },
    {
      "cell_type": "code",
      "metadata": {
        "id": "LIQGvqH8ebsr",
        "colab_type": "code",
        "colab": {
          "base_uri": "https://localhost:8080/",
          "height": 68
        },
        "outputId": "539447d2-856e-43cb-e867-c48a6c508c46"
      },
      "source": [
        "print(b.view(-1,4))"
      ],
      "execution_count": 50,
      "outputs": [
        {
          "output_type": "stream",
          "text": [
            "tensor([[2, 1, 4, 3],\n",
            "        [5, 4, 1, 2],\n",
            "        [0, 4, 3, 2]])\n"
          ],
          "name": "stdout"
        }
      ]
    },
    {
      "cell_type": "code",
      "metadata": {
        "id": "Sha4b41Kf662",
        "colab_type": "code",
        "colab": {
          "base_uri": "https://localhost:8080/",
          "height": 68
        },
        "outputId": "6ffcfe80-6211-4db3-9e9f-44e1ab973a12"
      },
      "source": [
        "print(b.view(3,4))"
      ],
      "execution_count": 51,
      "outputs": [
        {
          "output_type": "stream",
          "text": [
            "tensor([[2, 1, 4, 3],\n",
            "        [5, 4, 1, 2],\n",
            "        [0, 4, 3, 2]])\n"
          ],
          "name": "stdout"
        }
      ]
    },
    {
      "cell_type": "code",
      "metadata": {
        "id": "AiD9_nuwgHef",
        "colab_type": "code",
        "colab": {
          "base_uri": "https://localhost:8080/",
          "height": 34
        },
        "outputId": "81f52ffc-79d3-4f02-b422-ac65c56418d7"
      },
      "source": [
        "#Assign b a new shape\n",
        "b = b.view(1,-1)\n",
        "print(b)"
      ],
      "execution_count": 52,
      "outputs": [
        {
          "output_type": "stream",
          "text": [
            "tensor([[2, 1, 4, 3, 5, 4, 1, 2, 0, 4, 3, 2]])\n"
          ],
          "name": "stdout"
        }
      ]
    },
    {
      "cell_type": "code",
      "metadata": {
        "id": "963z8QmTggo_",
        "colab_type": "code",
        "colab": {
          "base_uri": "https://localhost:8080/",
          "height": 34
        },
        "outputId": "896dccbe-d835-4c17-efd6-898d401aa75c"
      },
      "source": [
        "print(b.shape)"
      ],
      "execution_count": 53,
      "outputs": [
        {
          "output_type": "stream",
          "text": [
            "torch.Size([1, 12])\n"
          ],
          "name": "stdout"
        }
      ]
    },
    {
      "cell_type": "code",
      "metadata": {
        "id": "1ueM7AfIgi57",
        "colab_type": "code",
        "colab": {
          "base_uri": "https://localhost:8080/",
          "height": 136
        },
        "outputId": "63af7d3a-c2ce-498b-cf27-ed3b3f8eb48f"
      },
      "source": [
        "#We can even reshape 30 tensors\n",
        "#Create a 3D Tensor with 2 channels, 3 rows and 4 columns (channles, rows, columns)\n",
        "three_dim = torch.randn(2,3,4)\n",
        "print(three_dim)"
      ],
      "execution_count": 54,
      "outputs": [
        {
          "output_type": "stream",
          "text": [
            "tensor([[[ 0.9353,  0.6546,  1.2782,  1.0183],\n",
            "         [-0.2833,  1.2126, -1.9375,  2.3675],\n",
            "         [-0.1957,  0.5938, -0.4529, -0.3103]],\n",
            "\n",
            "        [[ 0.3728, -0.4728,  0.0225, -0.1717],\n",
            "         [-1.6108, -1.1699, -0.2912,  1.0971],\n",
            "         [ 0.9387, -0.7719,  0.6574, -0.9410]]])\n"
          ],
          "name": "stdout"
        }
      ]
    },
    {
      "cell_type": "code",
      "metadata": {
        "id": "HcXlCBxxg8aR",
        "colab_type": "code",
        "colab": {
          "base_uri": "https://localhost:8080/",
          "height": 85
        },
        "outputId": "84f42f04-0f15-4f46-d3b6-96f6fb9dae1a"
      },
      "source": [
        "print(three_dim.view(2,12)) #Reshape to 2 rows, 12 columns"
      ],
      "execution_count": 55,
      "outputs": [
        {
          "output_type": "stream",
          "text": [
            "tensor([[ 0.9353,  0.6546,  1.2782,  1.0183, -0.2833,  1.2126, -1.9375,  2.3675,\n",
            "         -0.1957,  0.5938, -0.4529, -0.3103],\n",
            "        [ 0.3728, -0.4728,  0.0225, -0.1717, -1.6108, -1.1699, -0.2912,  1.0971,\n",
            "          0.9387, -0.7719,  0.6574, -0.9410]])\n"
          ],
          "name": "stdout"
        }
      ]
    },
    {
      "cell_type": "code",
      "metadata": {
        "id": "pb8lltfohKdt",
        "colab_type": "code",
        "colab": {
          "base_uri": "https://localhost:8080/",
          "height": 85
        },
        "outputId": "094d88e7-84aa-4a1a-bfd8-1388816975e1"
      },
      "source": [
        "print(three_dim.view(2,-1))"
      ],
      "execution_count": 56,
      "outputs": [
        {
          "output_type": "stream",
          "text": [
            "tensor([[ 0.9353,  0.6546,  1.2782,  1.0183, -0.2833,  1.2126, -1.9375,  2.3675,\n",
            "         -0.1957,  0.5938, -0.4529, -0.3103],\n",
            "        [ 0.3728, -0.4728,  0.0225, -0.1717, -1.6108, -1.1699, -0.2912,  1.0971,\n",
            "          0.9387, -0.7719,  0.6574, -0.9410]])\n"
          ],
          "name": "stdout"
        }
      ]
    },
    {
      "cell_type": "code",
      "metadata": {
        "id": "_o4dz5ErhRZs",
        "colab_type": "code",
        "colab": {
          "base_uri": "https://localhost:8080/",
          "height": 85
        },
        "outputId": "5e89d534-cf3a-46b2-b59b-5531b76ed542"
      },
      "source": [
        "#Create a matrix with random numbers between 0 and 1\n",
        "r = torch.rand(4,4)\n",
        "print(r)"
      ],
      "execution_count": 57,
      "outputs": [
        {
          "output_type": "stream",
          "text": [
            "tensor([[0.8291, 0.9680, 0.8791, 0.8128],\n",
            "        [0.2512, 0.5571, 0.8138, 0.9101],\n",
            "        [0.6951, 0.7054, 0.6602, 0.0623],\n",
            "        [0.9638, 0.4240, 0.8076, 0.8647]])\n"
          ],
          "name": "stdout"
        }
      ]
    },
    {
      "cell_type": "code",
      "metadata": {
        "id": "2O7Kdi5AhcpE",
        "colab_type": "code",
        "colab": {
          "base_uri": "https://localhost:8080/",
          "height": 102
        },
        "outputId": "47ce3ce0-1d82-45f9-d95d-1352b65f50a3"
      },
      "source": [
        "#Create a matrix with random numbers taken from a normal distribution with mean 0 and variance 1\n",
        "r2 = torch.randn(4,4)\n",
        "print(r2)\n",
        "print(r2.dtype)"
      ],
      "execution_count": 59,
      "outputs": [
        {
          "output_type": "stream",
          "text": [
            "tensor([[ 0.3000, -1.6362,  2.6602,  0.8817],\n",
            "        [ 1.3888, -0.2119,  0.2873,  0.5952],\n",
            "        [-0.7275, -0.1182,  1.4321, -0.4597],\n",
            "        [ 1.5139,  1.6220,  0.1999, -0.9352]])\n",
            "torch.float32\n"
          ],
          "name": "stdout"
        }
      ]
    },
    {
      "cell_type": "code",
      "metadata": {
        "id": "ypJoA66rhrP4",
        "colab_type": "code",
        "colab": {
          "base_uri": "https://localhost:8080/",
          "height": 51
        },
        "outputId": "d9dabf34-6632-4a80-db31-965a00825251"
      },
      "source": [
        "#Create an array of 5 random integers from values between  6 and 9 (exclusive of 10)\n",
        "in_array = torch.randint(6,10,(5,))\n",
        "print(in_array)\n",
        "print(in_array.dtype)"
      ],
      "execution_count": 64,
      "outputs": [
        {
          "output_type": "stream",
          "text": [
            "tensor([9, 6, 9, 6, 8])\n",
            "torch.int64\n"
          ],
          "name": "stdout"
        }
      ]
    },
    {
      "cell_type": "code",
      "metadata": {
        "id": "6Y5AcF9GifSv",
        "colab_type": "code",
        "colab": {
          "base_uri": "https://localhost:8080/",
          "height": 68
        },
        "outputId": "66c14588-fc69-4123-bbcd-da8da9af72f0"
      },
      "source": [
        "#Create a 2-D (or matrix) of size 3x3 filled with random integers from values between 6 and 9 (exclusive of 10)\n",
        "in_array2 = torch.randint(6,10,(3,3))\n",
        "print(in_array2)"
      ],
      "execution_count": 65,
      "outputs": [
        {
          "output_type": "stream",
          "text": [
            "tensor([[6, 8, 8],\n",
            "        [9, 6, 6],\n",
            "        [6, 9, 8]])\n"
          ],
          "name": "stdout"
        }
      ]
    },
    {
      "cell_type": "code",
      "metadata": {
        "id": "bkbCj37Ei-4h",
        "colab_type": "code",
        "colab": {
          "base_uri": "https://localhost:8080/",
          "height": 34
        },
        "outputId": "cf1c6105-a6fd-40b5-a28e-82d9a47d605e"
      },
      "source": [
        "#Get the number of elements in in_array\n",
        "print(torch.numel(in_array))"
      ],
      "execution_count": 66,
      "outputs": [
        {
          "output_type": "stream",
          "text": [
            "5\n"
          ],
          "name": "stdout"
        }
      ]
    },
    {
      "cell_type": "code",
      "metadata": {
        "id": "PHxmQXQzjJWB",
        "colab_type": "code",
        "colab": {
          "base_uri": "https://localhost:8080/",
          "height": 34
        },
        "outputId": "65618597-7cfe-4465-d63b-c37c59952a9a"
      },
      "source": [
        "print(torch.numel(in_array2))"
      ],
      "execution_count": 67,
      "outputs": [
        {
          "output_type": "stream",
          "text": [
            "9\n"
          ],
          "name": "stdout"
        }
      ]
    },
    {
      "cell_type": "code",
      "metadata": {
        "id": "LmI0v5u_jRm9",
        "colab_type": "code",
        "colab": {
          "base_uri": "https://localhost:8080/",
          "height": 68
        },
        "outputId": "c762c253-5495-4e9f-eab7-cf5d117bd5c7"
      },
      "source": [
        "#Construct a 3x3 matrix of zeros and of dtype long:\n",
        "z = torch.zeros(3,3, dtype=torch.long)\n",
        "print(z)"
      ],
      "execution_count": 68,
      "outputs": [
        {
          "output_type": "stream",
          "text": [
            "tensor([[0, 0, 0],\n",
            "        [0, 0, 0],\n",
            "        [0, 0, 0]])\n"
          ],
          "name": "stdout"
        }
      ]
    },
    {
      "cell_type": "code",
      "metadata": {
        "id": "AOeyb_KTjnka",
        "colab_type": "code",
        "colab": {
          "base_uri": "https://localhost:8080/",
          "height": 85
        },
        "outputId": "ee274205-da53-4633-b26a-6900f9297aad"
      },
      "source": [
        "#Construct a 3x3 matrix og ones\n",
        "o = torch.ones(3,3)\n",
        "print(o)\n",
        "print(o.dtype)"
      ],
      "execution_count": 69,
      "outputs": [
        {
          "output_type": "stream",
          "text": [
            "tensor([[1., 1., 1.],\n",
            "        [1., 1., 1.],\n",
            "        [1., 1., 1.]])\n",
            "torch.float32\n"
          ],
          "name": "stdout"
        }
      ]
    },
    {
      "cell_type": "code",
      "metadata": {
        "id": "cUlMdCIEjzVZ",
        "colab_type": "code",
        "colab": {
          "base_uri": "https://localhost:8080/",
          "height": 102
        },
        "outputId": "6aa9b1f5-fb98-4eba-b72b-b83c1fc5461f"
      },
      "source": [
        "r2_like = torch.randn_like(r2,dtype = torch.double) #Convert the data type of the tensor\n",
        "print(r2_like)"
      ],
      "execution_count": 70,
      "outputs": [
        {
          "output_type": "stream",
          "text": [
            "tensor([[-6.1040e-01, -1.1725e+00,  6.5268e-01,  1.8548e+00],\n",
            "        [ 9.7515e-01,  2.4428e-03, -1.9105e-01, -1.0682e+00],\n",
            "        [-8.0176e-01,  5.6065e-01,  2.6304e+00, -9.2666e-01],\n",
            "        [ 6.6057e-02,  5.2973e-01,  5.4346e-01,  1.6447e-01]],\n",
            "       dtype=torch.float64)\n"
          ],
          "name": "stdout"
        }
      ]
    },
    {
      "cell_type": "code",
      "metadata": {
        "id": "mBNZBdCHm1ik",
        "colab_type": "code",
        "colab": {
          "base_uri": "https://localhost:8080/",
          "height": 85
        },
        "outputId": "d480ee76-fa12-4688-e0fa-48fa7a93f23e"
      },
      "source": [
        "#Add two tensors, make sure they are the same size and data type\n",
        "add_result = torch.add(r,r2)\n",
        "print(add_result)"
      ],
      "execution_count": 71,
      "outputs": [
        {
          "output_type": "stream",
          "text": [
            "tensor([[ 1.1291, -0.6682,  3.5393,  1.6945],\n",
            "        [ 1.6400,  0.3451,  1.1011,  1.5053],\n",
            "        [-0.0324,  0.5872,  2.0922, -0.3973],\n",
            "        [ 2.4777,  2.0460,  1.0074, -0.0705]])\n"
          ],
          "name": "stdout"
        }
      ]
    },
    {
      "cell_type": "code",
      "metadata": {
        "id": "Gw9wgeF9nBtK",
        "colab_type": "code",
        "colab": {
          "base_uri": "https://localhost:8080/",
          "height": 85
        },
        "outputId": "7d42ebb7-bea2-418f-e4d7-e41a6a148fa2"
      },
      "source": [
        "#In-place addition(change the value of r2)\n",
        "r2.add_(r)\n",
        "print(r2)"
      ],
      "execution_count": 72,
      "outputs": [
        {
          "output_type": "stream",
          "text": [
            "tensor([[ 1.1291, -0.6682,  3.5393,  1.6945],\n",
            "        [ 1.6400,  0.3451,  1.1011,  1.5053],\n",
            "        [-0.0324,  0.5872,  2.0922, -0.3973],\n",
            "        [ 2.4777,  2.0460,  1.0074, -0.0705]])\n"
          ],
          "name": "stdout"
        }
      ]
    }
  ]
}

{
  "nbformat": 4,
  "nbformat_minor": 0,
  "metadata": {
    "colab": {
      "name": "Cross-entropy in python.ipynb",
      "provenance": [],
      "include_colab_link": true
    },
    "kernelspec": {
      "name": "python3",
      "display_name": "Python 3"
    }
  },
  "cells": [
    {
      "cell_type": "markdown",
      "metadata": {
        "id": "view-in-github",
        "colab_type": "text"
      },
      "source": [
        "<a href=\"https://colab.research.google.com/github/lamiaehana/bertelsmann-technology-scholarship-program/blob/master/Cross_entropy_in_python.ipynb\" target=\"_parent\"><img src=\"https://colab.research.google.com/assets/colab-badge.svg\" alt=\"Open In Colab\"/></a>"
      ]
    },
    {
      "cell_type": "markdown",
      "metadata": {
        "id": "bvOVF_xC925L",
        "colab_type": "text"
      },
      "source": [
        "# Coding Cross-entropy\n",
        "\n",
        "Trying for Y=[1,0,1,1] and P=[0.4,0.6,0.1,0.5].  \n",
        "The correct answer is  \n",
        "4.8283137373  \n"
      ]
    },
    {
      "cell_type": "code",
      "metadata": {
        "id": "Z5e5GY699y94",
        "colab_type": "code",
        "colab": {}
      },
      "source": [
        "import numpy as np\n",
        "\n",
        "# Write a function that takes as input two lists Y, P,\n",
        "# and returns the float corresponding to their cross-entropy.\n",
        "def cross_entropy(Y, P):\n",
        "    Y= np.float_(Y)\n",
        "    P = np.float_(P)\n",
        "    \n",
        "    return -np.sum(Y*np.log(P)+(1-Y)*np.log(1-P))"
      ],
      "execution_count": 0,
      "outputs": []
    },
    {
      "cell_type": "code",
      "metadata": {
        "id": "zPUegi5S99ja",
        "colab_type": "code",
        "colab": {
          "base_uri": "https://localhost:8080/",
          "height": 34
        },
        "outputId": "52360b81-c303-4458-d108-7dab073c89bd"
      },
      "source": [
        "cross_entropy([1,0,1,1],[0.4,0.6,0.1,0.5])"
      ],
      "execution_count": 2,
      "outputs": [
        {
          "output_type": "execute_result",
          "data": {
            "text/plain": [
              "4.828313737302301"
            ]
          },
          "metadata": {
            "tags": []
          },
          "execution_count": 2
        }
      ]
    }
  ]
}
